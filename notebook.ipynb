{
  "nbformat": 4,
  "nbformat_minor": 0,
  "metadata": {
    "colab": {
      "provenance": [],
      "authorship_tag": "ABX9TyMZIK5lT94YY/Mm0XyTRrTK",
      "include_colab_link": true
    },
    "kernelspec": {
      "name": "python3",
      "display_name": "Python 3"
    },
    "language_info": {
      "name": "python"
    }
  },
  "cells": [
    {
      "cell_type": "markdown",
      "metadata": {
        "id": "view-in-github",
        "colab_type": "text"
      },
      "source": [
        "<a href=\"https://colab.research.google.com/github/officialcyber88/Beat-Identifier-GUI/blob/main/notebook.ipynb\" target=\"_parent\"><img src=\"https://colab.research.google.com/assets/colab-badge.svg\" alt=\"Open In Colab\"/></a>"
      ]
    },
    {
      "cell_type": "code",
      "execution_count": null,
      "metadata": {
        "cellView": "form",
        "id": "F8TtMNs80KTM",
        "outputId": "3f243c70-af11-494a-84db-49ba85c81995",
        "colab": {
          "base_uri": "https://localhost:8080/"
        }
      },
      "outputs": [
        {
          "output_type": "stream",
          "name": "stdout",
          "text": [
            "Mounted at /content/drive\n"
          ]
        }
      ],
      "source": [
        "\n",
        "# @title Mount Google Colab\n",
        "from google.colab import drive\n",
        "drive.mount('/content/drive')"
      ]
    },
    {
      "cell_type": "code",
      "source": [
        "# @title Install requirements\n",
        "!apt-get update && apt-get install -y libsndfile1\n",
        "!pip install soundfile\n",
        "\n",
        "!pip install --upgrade \\\n",
        "    gradio==3.44.0 \\\n",
        "    librosa==0.10.0 \\\n",
        "    numpy==1.24.3 \\\n",
        "    requests==2.31.0 \\\n",
        "    gdown==4.7.1 \\\n",
        "    torch==2.1.0"
      ],
      "metadata": {
        "cellView": "form",
        "id": "SghuR9wdiPuq"
      },
      "execution_count": null,
      "outputs": []
    },
    {
      "cell_type": "code",
      "source": [
        "# @title Beat Identifier GUI\n",
        "\n",
        "import warnings\n",
        "warnings.filterwarnings(\"ignore\", category=FutureWarning)\n",
        "\n",
        "import os\n",
        "import tempfile\n",
        "import socket\n",
        "import gradio as gr\n",
        "import librosa\n",
        "import numpy as np\n",
        "import torch\n",
        "from concurrent.futures import ThreadPoolExecutor\n",
        "import scipy.signal\n",
        "from scipy.signal.windows import hann as _hann\n",
        "\n",
        "# Patch SciPy so librosa.beat_track can find hann()\n",
        "scipy.signal.hann = _hann\n",
        "\n",
        "# Detect device\n",
        "use_cuda = torch.cuda.is_available()\n",
        "device = torch.device('cuda' if use_cuda else 'cpu')\n",
        "print(f\"Using device: {device}\")\n",
        "\n",
        "notes = ['C','C#','D','D#','E','F','F#','G','G#','A','A#','B']\n",
        "\n",
        "def analyze_single(path):\n",
        "    fn = os.path.basename(path)\n",
        "    try:\n",
        "        y, sr = librosa.load(path, sr=None)\n",
        "        if y.size == 0:\n",
        "            return f\"Error: {fn} is empty.\", None\n",
        "        if use_cuda:\n",
        "            import torch as _t\n",
        "            y = _t.from_numpy(y).to(device).cpu().numpy()\n",
        "\n",
        "        dur = librosa.get_duration(y=y, sr=sr)\n",
        "        if dur == 0:\n",
        "            return f\"Error: {fn} duration is zero.\", None\n",
        "        m, s = divmod(int(dur), 60)\n",
        "\n",
        "        onset_env = librosa.onset.onset_strength(y=y, sr=sr)\n",
        "        bpm = 0 if onset_env.sum() == 0 else int(round(librosa.beat.beat_track(onset_envelope=onset_env, sr=sr)[0]))\n",
        "\n",
        "        chroma = librosa.feature.chroma_cqt(y=y, sr=sr)\n",
        "        key = notes[int(np.mean(chroma, axis=1).argmax())]\n",
        "\n",
        "        tuning = librosa.estimate_tuning(y=y, sr=sr)\n",
        "\n",
        "        summary = (\n",
        "            f\"**{fn}**\\n\\n\"\n",
        "            f\"- Duration: {m}m {s}s ({dur:.2f}s)\\n\"\n",
        "            f\"- BPM: {bpm if bpm > 0 else '—'}\\n\"\n",
        "            f\"- Key: {key}\\n\"\n",
        "            f\"- Tuning offset: {tuning:.3f} semitones\"\n",
        "        )\n",
        "        return summary, path\n",
        "\n",
        "    except Exception as e:\n",
        "        return f\"Error analyzing {fn}: {e}\", None\n",
        "\n",
        "def analyze_batch(paths):\n",
        "    with ThreadPoolExecutor(max_workers=min(4, os.cpu_count())) as ex:\n",
        "        results = list(ex.map(analyze_single, paths))\n",
        "    summaries, out_paths, opts = [], [], []\n",
        "    for summary, p in results:\n",
        "        summaries.append(summary)\n",
        "        if p:\n",
        "            out_paths.append(p)\n",
        "            opts.append((os.path.basename(p), p))\n",
        "    return \"\\n\\n---\\n\\n\".join(summaries), out_paths, opts\n",
        "\n",
        "def find_available_port(start=7860, end=7900):\n",
        "    for port in range(start, end + 1):\n",
        "        with socket.socket() as s:\n",
        "            try:\n",
        "                s.bind((\"\", port))\n",
        "                return port\n",
        "            except OSError:\n",
        "                continue\n",
        "    return start\n",
        "\n",
        "def process_upload(files):\n",
        "    if not files:\n",
        "        return \"⚠ Please upload one or more MP3/WAV files.\", [], []\n",
        "    paths = [f.name for f in files]\n",
        "    summary, out_paths, opts = analyze_batch(paths)\n",
        "    default = out_paths[0] if out_paths else None\n",
        "    return summary, out_paths, gr.update(choices=opts, value=default)\n",
        "\n",
        "# === Build GUI ===\n",
        "with gr.Blocks(title=\"Beat Identifier\", theme=gr.themes.Soft()) as demo:\n",
        "    gr.Markdown(\"# Beat Identifier\")\n",
        "    gr.Markdown(\"Drag & drop your MP3/WAV files below\")\n",
        "    with gr.Row():\n",
        "        with gr.Column(scale=2):\n",
        "            upload = gr.File(\n",
        "                label=\"Upload Audio Files\",\n",
        "                file_count=\"multiple\",\n",
        "                file_types=[\".mp3\", \".wav\"],\n",
        "                type=\"file\"\n",
        "            )\n",
        "            btn = gr.Button(\"Analyze Audio\", variant=\"primary\")\n",
        "        with gr.Column(scale=3):\n",
        "            gr.Markdown(\"### Results\")\n",
        "    with gr.Tabs():\n",
        "        with gr.TabItem(\"Summary\"):\n",
        "            out_md = gr.Markdown(\"\", label=\"Analysis Summary\")\n",
        "        with gr.TabItem(\"Files\"):\n",
        "            out_files = gr.File(file_count=\"multiple\", label=\"Download Files\")\n",
        "        with gr.TabItem(\"Playback\"):\n",
        "            selector = gr.Dropdown(choices=[], label=\"Select File to Play\")\n",
        "            audio_player = gr.Audio(label=\"Preview\", interactive=True)\n",
        "\n",
        "    selector.change(lambda p: p or None, selector, audio_player)\n",
        "    btn.click(process_upload, inputs=[upload], outputs=[out_md, out_files, selector])\n",
        "\n",
        "    demo.queue()  # server-side queue to avoid mobile disconnects\n",
        "\n",
        "# === Launch ===\n",
        "if __name__ == \"__main__\":\n",
        "    port = find_available_port()\n",
        "    in_colab = False\n",
        "    try:\n",
        "        import google.colab  # type: ignore\n",
        "        in_colab = True\n",
        "    except ImportError:\n",
        "        pass\n",
        "\n",
        "    demo.launch(\n",
        "        server_name=\"0.0.0.0\",\n",
        "        server_port=port,\n",
        "        share=in_colab,   # must share=True in Colab when using queue()\n",
        "        debug=in_colab    # show errors inline in Colab\n",
        "    )"
      ],
      "metadata": {
        "cellView": "form",
        "id": "HG5dbwdZjxP9"
      },
      "execution_count": null,
      "outputs": []
    }
  ]
}