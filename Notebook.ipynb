{
  "nbformat": 4,
  "nbformat_minor": 0,
  "metadata": {
    "colab": {
      "provenance": [],
      "authorship_tag": "ABX9TyMWWsZ5keISViwVXyKZLyoV",
      "include_colab_link": true
    },
    "kernelspec": {
      "name": "python3",
      "display_name": "Python 3"
    },
    "language_info": {
      "name": "python"
    }
  },
  "cells": [
    {
      "cell_type": "markdown",
      "metadata": {
        "id": "view-in-github",
        "colab_type": "text"
      },
      "source": [
        "<a href=\"https://colab.research.google.com/github/officialcyber88/Beat-Identifier-GUI/blob/main/Notebook.ipynb\" target=\"_parent\"><img src=\"https://colab.research.google.com/assets/colab-badge.svg\" alt=\"Open In Colab\"/></a>"
      ]
    },
    {
      "cell_type": "code",
      "execution_count": null,
      "metadata": {
        "cellView": "form",
        "id": "F8TtMNs80KTM"
      },
      "outputs": [],
      "source": [
        "\n",
        "# @title Mount Google Colab\n",
        "from google.colab import drive\n",
        "drive.mount('/content/drive')"
      ]
    },
    {
      "cell_type": "code",
      "execution_count": null,
      "metadata": {
        "cellView": "form",
        "id": "G1UcUJdQOLzG"
      },
      "outputs": [],
      "source": [
        "# @title Install requirements\n",
        "!pip install gradio librosa numpy requests torch scipy"
      ]
    },
    {
      "cell_type": "code",
      "source": [
        "# @title Beat Identifier\n",
        "\n",
        "import os\n",
        "import gradio as gr\n",
        "import librosa\n",
        "import numpy as np\n",
        "import tempfile\n",
        "import requests\n",
        "import shutil\n",
        "import torch\n",
        "from concurrent.futures import ThreadPoolExecutor\n",
        "\n",
        "# --- Patch SciPy so librosa.beat_track can find hann() ---\n",
        "import scipy.signal\n",
        "from scipy.signal.windows import hann as _hann\n",
        "scipy.signal.hann = _hann\n",
        "\n",
        "# Detect device\n",
        "use_cuda = torch.cuda.is_available()\n",
        "device = torch.device('cuda' if use_cuda else 'cpu')\n",
        "print(f\"Using device: {device}\")\n",
        "\n",
        "notes = ['C','C#','D','D#','E','F','F#','G','G#','A','A#','B']\n",
        "\n",
        "def download_from_gdrive(url):\n",
        "    if \"drive.google.com\" not in url:\n",
        "        raise ValueError(\"Not a valid Google Drive URL.\")\n",
        "    if \"id=\" in url:\n",
        "        file_id = url.split(\"id=\")[1].split(\"&\")[0]\n",
        "    else:\n",
        "        file_id = url.split(\"/d/\")[1].split(\"/\")[0]\n",
        "    download_url = f\"https://drive.google.com/uc?export=download&id={file_id}\"\n",
        "    resp = requests.get(download_url, stream=True)\n",
        "    if resp.status_code != 200:\n",
        "        raise ValueError(\"Failed to download.\")\n",
        "    path = tempfile.NamedTemporaryFile(delete=False, suffix=\".mp3\").name\n",
        "    with open(path, \"wb\") as f:\n",
        "        shutil.copyfileobj(resp.raw, f)\n",
        "    return path\n",
        "\n",
        "def analyze_single(path):\n",
        "    # load audio\n",
        "    y, sr = librosa.load(path, sr=None)\n",
        "    # optionally use GPU tensor\n",
        "    if use_cuda:\n",
        "        y = torch.from_numpy(y).to(device).cpu().numpy()\n",
        "    # compute duration\n",
        "    duration = librosa.get_duration(y=y, sr=sr)\n",
        "    m, s = divmod(int(duration), 60)\n",
        "    # BPM\n",
        "    onset_env = librosa.onset.onset_strength(y=y, sr=sr)\n",
        "    tempo, _ = librosa.beat.beat_track(onset_envelope=onset_env, sr=sr)\n",
        "    bpm = int(round(float(tempo)))\n",
        "    # key detection\n",
        "    chroma = librosa.feature.chroma_cqt(y=y, sr=sr)\n",
        "    main_note = notes[int(np.mean(chroma, axis=1).argmax())]\n",
        "    # tuning\n",
        "    tuning = librosa.estimate_tuning(y=y, sr=sr)\n",
        "    summary = (\n",
        "        f\"**{os.path.basename(path)}**\\n\\n\"\n",
        "        f\"- Duration: {m}m{s}s ({duration:.2f}s)\\n\"\n",
        "        f\"- BPM: {bpm}\\n\"\n",
        "        f\"- Key: {main_note}\\n\"\n",
        "        f\"- Tuning offset: {tuning:.3f} semitones\"\n",
        "    )\n",
        "    return summary, path\n",
        "\n",
        "def analyze_batch(files, gdrive_url):\n",
        "    if files:\n",
        "        paths = files\n",
        "    elif gdrive_url.strip():\n",
        "        paths = [download_from_gdrive(gdrive_url.strip())]\n",
        "    else:\n",
        "        return \"⚠️ No input provided.\", []\n",
        "    # parallel analysis using all CPU cores\n",
        "    with ThreadPoolExecutor(max_workers=os.cpu_count()) as exe:\n",
        "        results = list(exe.map(analyze_single, paths))\n",
        "    summaries, out_paths = zip(*results)\n",
        "    return \"\\n\\n---\\n\\n\".join(summaries), list(out_paths)\n",
        "\n",
        "# Gradio UI\n",
        "with gr.Blocks(title=\"Beat Identifier\", theme=gr.themes.Soft()) as demo:\n",
        "    gr.Markdown(\"# Beat Identifier\")\n",
        "    gr.Markdown(\"Upload audio file(s) or paste a Google Drive share URL.\")\n",
        "    with gr.Row():\n",
        "        with gr.Column():\n",
        "            upload = gr.File(label=\"Upload Audio File(s)\", file_count=\"multiple\", file_types=[\"audio\"])\n",
        "            gdrive = gr.Textbox(label=\"Google Drive URL\", placeholder=\"https://drive.google.com/...\")\n",
        "            btn    = gr.Button(\"Analyze\", variant=\"primary\")\n",
        "        with gr.Column():\n",
        "            out_md    = gr.Markdown(\"\", label=\"Analysis Results\")\n",
        "            out_files = gr.File(label=\"Download / Play Files\", file_count=\"multiple\")\n",
        "    btn.click(analyze_batch, inputs=[upload, gdrive], outputs=[out_md, out_files])\n",
        "\n",
        "# enable queue to avoid timeouts\n",
        "demo.queue(max_size=16)\n",
        "\n",
        "if __name__ == \"__main__\":\n",
        "    demo.launch(server_name=\"0.0.0.0\", server_port=7860)"
      ],
      "metadata": {
        "cellView": "form",
        "id": "JxaB9MXRdW_3"
      },
      "execution_count": null,
      "outputs": []
    }
  ]
}